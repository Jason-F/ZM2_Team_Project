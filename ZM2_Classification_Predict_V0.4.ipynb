{
 "cells": [
  {
   "cell_type": "markdown",
   "metadata": {},
   "source": [
    "# Load Dependencies"
   ]
  },
  {
   "cell_type": "markdown",
   "metadata": {},
   "source": [
    "Loading required python packages."
   ]
  },
  {
   "cell_type": "code",
   "execution_count": 1,
   "metadata": {},
   "outputs": [],
   "source": [
    "import numpy as np\n",
    "import pandas as pd\n",
    "import matplotlib as mpl\n",
    "import matplotlib.pyplot as plt\n",
    "import seaborn as sns\n",
    "%matplotlib inline\n",
    "\n",
    "#models\n",
    "from sklearn.linear_model import LogisticRegression\n",
    "\n",
    "# NLP Libraries\n",
    "import re\n",
    "import string\n",
    "from nltk.corpus import stopwords\n",
    "from nltk.tokenize import word_tokenize\n",
    "from nltk.tokenize import RegexpTokenizer\n",
    "from nltk.stem import PorterStemmer\n",
    "from nltk.stem import WordNetLemmatizer\n",
    "from nltk.stem import SnowballStemmer\n",
    "from os import path\n",
    "from PIL import Image\n",
    "#from wordcloud import WordCloud, STOPWORDS, ImageColorGenerator\n",
    "from sklearn.model_selection import GridSearchCV, cross_val_score\n",
    "\n",
    "#metrics, procssing and model selection\n",
    "from nltk import pos_tag\n",
    "from sklearn.model_selection import train_test_split\n",
    "from sklearn.feature_extraction.text import CountVectorizer\n",
    "from sklearn.feature_extraction.text import TfidfVectorizer\n",
    "from sklearn.preprocessing import StandardScaler\n",
    "#Setting Plot figure size\n",
    "sns.set(rc={'figure.figsize':(12.8,11.27)})"
   ]
  },
  {
   "cell_type": "markdown",
   "metadata": {},
   "source": [
    "# Data Collection"
   ]
  },
  {
   "cell_type": "markdown",
   "metadata": {},
   "source": [
    "As kaggle already provided us with data in the form of csv files, all we have to do is load them into dataframes."
   ]
  },
  {
   "cell_type": "code",
   "execution_count": 2,
   "metadata": {},
   "outputs": [],
   "source": [
    "#loading csv's\n",
    "train=pd.read_csv('train.csv')\n",
    "test=pd.read_csv('test_with_no_labels.csv')"
   ]
  },
  {
   "cell_type": "code",
   "execution_count": 3,
   "metadata": {},
   "outputs": [
    {
     "data": {
      "text/html": [
       "<div>\n",
       "<style scoped>\n",
       "    .dataframe tbody tr th:only-of-type {\n",
       "        vertical-align: middle;\n",
       "    }\n",
       "\n",
       "    .dataframe tbody tr th {\n",
       "        vertical-align: top;\n",
       "    }\n",
       "\n",
       "    .dataframe thead th {\n",
       "        text-align: right;\n",
       "    }\n",
       "</style>\n",
       "<table border=\"1\" class=\"dataframe\">\n",
       "  <thead>\n",
       "    <tr style=\"text-align: right;\">\n",
       "      <th></th>\n",
       "      <th>sentiment</th>\n",
       "      <th>message</th>\n",
       "      <th>tweetid</th>\n",
       "    </tr>\n",
       "  </thead>\n",
       "  <tbody>\n",
       "    <tr>\n",
       "      <th>0</th>\n",
       "      <td>1</td>\n",
       "      <td>PolySciMajor EPA chief doesn't think carbon di...</td>\n",
       "      <td>625221</td>\n",
       "    </tr>\n",
       "    <tr>\n",
       "      <th>1</th>\n",
       "      <td>1</td>\n",
       "      <td>It's not like we lack evidence of anthropogeni...</td>\n",
       "      <td>126103</td>\n",
       "    </tr>\n",
       "    <tr>\n",
       "      <th>2</th>\n",
       "      <td>2</td>\n",
       "      <td>RT @RawStory: Researchers say we have three ye...</td>\n",
       "      <td>698562</td>\n",
       "    </tr>\n",
       "    <tr>\n",
       "      <th>3</th>\n",
       "      <td>1</td>\n",
       "      <td>#TodayinMaker# WIRED : 2016 was a pivotal year...</td>\n",
       "      <td>573736</td>\n",
       "    </tr>\n",
       "    <tr>\n",
       "      <th>4</th>\n",
       "      <td>1</td>\n",
       "      <td>RT @SoyNovioDeTodas: It's 2016, and a racist, ...</td>\n",
       "      <td>466954</td>\n",
       "    </tr>\n",
       "  </tbody>\n",
       "</table>\n",
       "</div>"
      ],
      "text/plain": [
       "   sentiment                                            message  tweetid\n",
       "0          1  PolySciMajor EPA chief doesn't think carbon di...   625221\n",
       "1          1  It's not like we lack evidence of anthropogeni...   126103\n",
       "2          2  RT @RawStory: Researchers say we have three ye...   698562\n",
       "3          1  #TodayinMaker# WIRED : 2016 was a pivotal year...   573736\n",
       "4          1  RT @SoyNovioDeTodas: It's 2016, and a racist, ...   466954"
      ]
     },
     "execution_count": 3,
     "metadata": {},
     "output_type": "execute_result"
    }
   ],
   "source": [
    "train.head()"
   ]
  },
  {
   "cell_type": "code",
   "execution_count": 4,
   "metadata": {},
   "outputs": [
    {
     "data": {
      "text/plain": [
       "(15819, 3)"
      ]
     },
     "execution_count": 4,
     "metadata": {},
     "output_type": "execute_result"
    }
   ],
   "source": [
    "train.shape"
   ]
  },
  {
   "cell_type": "code",
   "execution_count": 5,
   "metadata": {},
   "outputs": [
    {
     "data": {
      "text/html": [
       "<div>\n",
       "<style scoped>\n",
       "    .dataframe tbody tr th:only-of-type {\n",
       "        vertical-align: middle;\n",
       "    }\n",
       "\n",
       "    .dataframe tbody tr th {\n",
       "        vertical-align: top;\n",
       "    }\n",
       "\n",
       "    .dataframe thead th {\n",
       "        text-align: right;\n",
       "    }\n",
       "</style>\n",
       "<table border=\"1\" class=\"dataframe\">\n",
       "  <thead>\n",
       "    <tr style=\"text-align: right;\">\n",
       "      <th></th>\n",
       "      <th>message</th>\n",
       "      <th>tweetid</th>\n",
       "    </tr>\n",
       "  </thead>\n",
       "  <tbody>\n",
       "    <tr>\n",
       "      <th>0</th>\n",
       "      <td>Europe will now be looking to China to make su...</td>\n",
       "      <td>169760</td>\n",
       "    </tr>\n",
       "    <tr>\n",
       "      <th>1</th>\n",
       "      <td>Combine this with the polling of staffers re c...</td>\n",
       "      <td>35326</td>\n",
       "    </tr>\n",
       "    <tr>\n",
       "      <th>2</th>\n",
       "      <td>The scary, unimpeachable evidence that climate...</td>\n",
       "      <td>224985</td>\n",
       "    </tr>\n",
       "    <tr>\n",
       "      <th>3</th>\n",
       "      <td>@Karoli @morgfair @OsborneInk @dailykos \\nPuti...</td>\n",
       "      <td>476263</td>\n",
       "    </tr>\n",
       "    <tr>\n",
       "      <th>4</th>\n",
       "      <td>RT @FakeWillMoore: 'Female orgasms cause globa...</td>\n",
       "      <td>872928</td>\n",
       "    </tr>\n",
       "  </tbody>\n",
       "</table>\n",
       "</div>"
      ],
      "text/plain": [
       "                                             message  tweetid\n",
       "0  Europe will now be looking to China to make su...   169760\n",
       "1  Combine this with the polling of staffers re c...    35326\n",
       "2  The scary, unimpeachable evidence that climate...   224985\n",
       "3  @Karoli @morgfair @OsborneInk @dailykos \\nPuti...   476263\n",
       "4  RT @FakeWillMoore: 'Female orgasms cause globa...   872928"
      ]
     },
     "execution_count": 5,
     "metadata": {},
     "output_type": "execute_result"
    }
   ],
   "source": [
    "test.head()"
   ]
  },
  {
   "cell_type": "code",
   "execution_count": 6,
   "metadata": {},
   "outputs": [
    {
     "data": {
      "text/plain": [
       "(10546, 2)"
      ]
     },
     "execution_count": 6,
     "metadata": {},
     "output_type": "execute_result"
    }
   ],
   "source": [
    "test.shape"
   ]
  },
  {
   "cell_type": "markdown",
   "metadata": {},
   "source": [
    "# Data Cleaning"
   ]
  },
  {
   "cell_type": "markdown",
   "metadata": {},
   "source": [
    "Kaggle tries to provide us with clean data but it's always a good idea to check for ourselves. We check for null and empty values."
   ]
  },
  {
   "cell_type": "code",
   "execution_count": 7,
   "metadata": {},
   "outputs": [
    {
     "data": {
      "text/plain": [
       "sentiment    0\n",
       "message      0\n",
       "tweetid      0\n",
       "dtype: int64"
      ]
     },
     "execution_count": 7,
     "metadata": {},
     "output_type": "execute_result"
    }
   ],
   "source": [
    "train.isnull().sum()"
   ]
  },
  {
   "cell_type": "code",
   "execution_count": 8,
   "metadata": {},
   "outputs": [
    {
     "name": "stdout",
     "output_type": "stream",
     "text": [
      "The data contains 0 empty values over all columns\n"
     ]
    }
   ],
   "source": [
    "i=0\n",
    "for x in train.columns:\n",
    "    if '' in sorted(train[x].unique()):\n",
    "        i+=1\n",
    "print('The data contains '+str(i)+' empty values over all columns')"
   ]
  },
  {
   "cell_type": "markdown",
   "metadata": {},
   "source": [
    "none of our columns contain any null or empty values."
   ]
  },
  {
   "cell_type": "markdown",
   "metadata": {},
   "source": [
    "# Exploratory Data Analysis"
   ]
  },
  {
   "cell_type": "code",
   "execution_count": 9,
   "metadata": {},
   "outputs": [
    {
     "data": {
      "text/html": [
       "<div>\n",
       "<style scoped>\n",
       "    .dataframe tbody tr th:only-of-type {\n",
       "        vertical-align: middle;\n",
       "    }\n",
       "\n",
       "    .dataframe tbody tr th {\n",
       "        vertical-align: top;\n",
       "    }\n",
       "\n",
       "    .dataframe thead th {\n",
       "        text-align: right;\n",
       "    }\n",
       "</style>\n",
       "<table border=\"1\" class=\"dataframe\">\n",
       "  <thead>\n",
       "    <tr style=\"text-align: right;\">\n",
       "      <th></th>\n",
       "      <th>sentiment</th>\n",
       "      <th>tweetid</th>\n",
       "    </tr>\n",
       "  </thead>\n",
       "  <tbody>\n",
       "    <tr>\n",
       "      <th>count</th>\n",
       "      <td>15819.000000</td>\n",
       "      <td>15819.000000</td>\n",
       "    </tr>\n",
       "    <tr>\n",
       "      <th>mean</th>\n",
       "      <td>0.917504</td>\n",
       "      <td>501719.433656</td>\n",
       "    </tr>\n",
       "    <tr>\n",
       "      <th>std</th>\n",
       "      <td>0.836537</td>\n",
       "      <td>289045.983132</td>\n",
       "    </tr>\n",
       "    <tr>\n",
       "      <th>min</th>\n",
       "      <td>-1.000000</td>\n",
       "      <td>6.000000</td>\n",
       "    </tr>\n",
       "    <tr>\n",
       "      <th>25%</th>\n",
       "      <td>1.000000</td>\n",
       "      <td>253207.500000</td>\n",
       "    </tr>\n",
       "    <tr>\n",
       "      <th>50%</th>\n",
       "      <td>1.000000</td>\n",
       "      <td>502291.000000</td>\n",
       "    </tr>\n",
       "    <tr>\n",
       "      <th>75%</th>\n",
       "      <td>1.000000</td>\n",
       "      <td>753769.000000</td>\n",
       "    </tr>\n",
       "    <tr>\n",
       "      <th>max</th>\n",
       "      <td>2.000000</td>\n",
       "      <td>999888.000000</td>\n",
       "    </tr>\n",
       "  </tbody>\n",
       "</table>\n",
       "</div>"
      ],
      "text/plain": [
       "          sentiment        tweetid\n",
       "count  15819.000000   15819.000000\n",
       "mean       0.917504  501719.433656\n",
       "std        0.836537  289045.983132\n",
       "min       -1.000000       6.000000\n",
       "25%        1.000000  253207.500000\n",
       "50%        1.000000  502291.000000\n",
       "75%        1.000000  753769.000000\n",
       "max        2.000000  999888.000000"
      ]
     },
     "execution_count": 9,
     "metadata": {},
     "output_type": "execute_result"
    }
   ],
   "source": [
    "train.describe()"
   ]
  },
  {
   "cell_type": "code",
   "execution_count": 10,
   "metadata": {},
   "outputs": [
    {
     "name": "stdout",
     "output_type": "stream",
     "text": [
      "<class 'pandas.core.frame.DataFrame'>\n",
      "RangeIndex: 15819 entries, 0 to 15818\n",
      "Data columns (total 3 columns):\n",
      "sentiment    15819 non-null int64\n",
      "message      15819 non-null object\n",
      "tweetid      15819 non-null int64\n",
      "dtypes: int64(2), object(1)\n",
      "memory usage: 370.8+ KB\n"
     ]
    }
   ],
   "source": [
    "train.info()"
   ]
  },
  {
   "cell_type": "code",
   "execution_count": 11,
   "metadata": {},
   "outputs": [
    {
     "data": {
      "text/plain": [
       "sentiment   -0.683959\n",
       "tweetid     -0.008471\n",
       "dtype: float64"
      ]
     },
     "execution_count": 11,
     "metadata": {},
     "output_type": "execute_result"
    }
   ],
   "source": [
    "#Evaluating the skewness\n",
    "train.skew()"
   ]
  },
  {
   "cell_type": "code",
   "execution_count": 12,
   "metadata": {},
   "outputs": [
    {
     "data": {
      "text/plain": [
       "sentiment    0.122976\n",
       "tweetid     -1.193356\n",
       "dtype: float64"
      ]
     },
     "execution_count": 12,
     "metadata": {},
     "output_type": "execute_result"
    }
   ],
   "source": [
    "#Evaluating the kurtosis\n",
    "train.kurtosis()"
   ]
  },
  {
   "cell_type": "markdown",
   "metadata": {},
   "source": [
    "## Distribution values  of labels"
   ]
  },
  {
   "cell_type": "code",
   "execution_count": 13,
   "metadata": {
    "scrolled": true
   },
   "outputs": [
    {
     "data": {
      "text/plain": [
       "Text(0.5, 1.0, 'Distribution of sentiment labels')"
      ]
     },
     "execution_count": 13,
     "metadata": {},
     "output_type": "execute_result"
    },
    {
     "data": {
      "image/png": "[encoded data removed]",
      "text/plain": [
       "<Figure size 432x288 with 1 Axes>"
      ]
     },
     "metadata": {
      "needs_background": "light"
     },
     "output_type": "display_data"
    }
   ],
   "source": [
    "sns.countplot(x=train['sentiment'])\n",
    "plt.title('Distribution of sentiment labels')"
   ]
  },
  {
   "cell_type": "code",
   "execution_count": 14,
   "metadata": {},
   "outputs": [
    {
     "data": {
      "text/plain": [
       " 1    0.539225\n",
       " 2    0.230103\n",
       " 0    0.148745\n",
       "-1    0.081927\n",
       "Name: sentiment, dtype: float64"
      ]
     },
     "execution_count": 14,
     "metadata": {},
     "output_type": "execute_result"
    }
   ],
   "source": [
    "# checking the distribution\n",
    "train['sentiment'].value_counts()/train.shape[0]"
   ]
  },
  {
   "cell_type": "markdown",
   "metadata": {},
   "source": [
    "## Number of Unique values:"
   ]
  },
  {
   "cell_type": "code",
   "execution_count": 15,
   "metadata": {},
   "outputs": [
    {
     "data": {
      "text/plain": [
       " 1    8530\n",
       " 2    3640\n",
       " 0    2353\n",
       "-1    1296\n",
       "Name: sentiment, dtype: int64"
      ]
     },
     "execution_count": 15,
     "metadata": {},
     "output_type": "execute_result"
    }
   ],
   "source": [
    "train['sentiment'].unique()\n",
    "train['sentiment'].value_counts()"
   ]
  },
  {
   "cell_type": "markdown",
   "metadata": {},
   "source": [
    "## Converting the Sentiment Labels from numbers to text"
   ]
  },
  {
   "cell_type": "markdown",
   "metadata": {},
   "source": [
    "Changing the Sentiment numbers to legiable text for better transparancy on what they mean, so we can correlate and understand the data better"
   ]
  },
  {
   "cell_type": "code",
   "execution_count": 16,
   "metadata": {},
   "outputs": [],
   "source": [
    "# Making a copy of the train data since we will be making changes to the dataset\n",
    "train_df = train.copy()"
   ]
  },
  {
   "cell_type": "code",
   "execution_count": 17,
   "metadata": {},
   "outputs": [],
   "source": [
    "train_df['sentiment'] = [['Negative', 'Neutral', 'Positive', 'News'][x+1] for x in train_df['sentiment']]"
   ]
  },
  {
   "cell_type": "code",
   "execution_count": 18,
   "metadata": {},
   "outputs": [
    {
     "data": {
      "text/plain": [
       "Text(0.5, 1.0, 'Message count per sentiment')"
      ]
     },
     "execution_count": 18,
     "metadata": {},
     "output_type": "execute_result"
    },
    {
     "data": {
      "image/png": "[encoded data removed]",
      "text/plain": [
       "<Figure size 432x288 with 1 Axes>"
      ]
     },
     "metadata": {
      "needs_background": "light"
     },
     "output_type": "display_data"
    }
   ],
   "source": [
    "sns.countplot(x=train_df['sentiment'])\n",
    "plt.title('Message count per sentiment')"
   ]
  },
  {
   "cell_type": "code",
   "execution_count": 19,
   "metadata": {},
   "outputs": [
    {
     "data": {
      "image/png": "[encoded data removed]",
      "text/plain": [
       "<Figure size 432x288 with 1 Axes>"
      ]
     },
     "metadata": {
      "needs_background": "light"
     },
     "output_type": "display_data"
    }
   ],
   "source": [
    "sns.barplot(x='sentiment', y=train_df['message'].apply(len) ,data = train_df)\n",
    "plt.ylabel('Message Length')\n",
    "plt.xlabel('Sentiment')\n",
    "plt.title('Average Message Length by  by Sentiment')\n",
    "plt.show()"
   ]
  },
  {
   "cell_type": "code",
   "execution_count": 20,
   "metadata": {},
   "outputs": [
    {
     "data": {
      "image/png": "[encoded data removed]",
      "text/plain": [
       "<Figure size 432x288 with 1 Axes>"
      ]
     },
     "metadata": {},
     "output_type": "display_data"
    }
   ],
   "source": [
    "#numerical distribution\n",
    "values = train_df['sentiment'].value_counts()/train_df.shape[0]\n",
    "labels = (train_df['sentiment'].value_counts()/train_df.shape[0]).index\n",
    "plt.pie(x=values, labels=labels, autopct='%1.1f%%', startangle=90, explode= (0.04, 0, 0, 0))\n",
    "plt.show()"
   ]
  },
  {
   "cell_type": "markdown",
   "metadata": {},
   "source": [
    "### Counting user names that are repeated in tweets"
   ]
  },
  {
   "cell_type": "markdown",
   "metadata": {},
   "source": [
    "Here we are looking for Twitter accounts/users that are commonly brought up in messages"
   ]
  },
  {
   "cell_type": "code",
   "execution_count": 21,
   "metadata": {},
   "outputs": [],
   "source": [
    "train_df['users'] = [''.join(re.findall(r'@\\w{,}', line)) if '@' in line else np.nan for line in train_df.message]\n",
    "counts = train_df[['message', 'users']].groupby('users', as_index=False).count().sort_values(by='message', ascending=False)"
   ]
  },
  {
   "cell_type": "code",
   "execution_count": 22,
   "metadata": {},
   "outputs": [
    {
     "data": {
      "text/html": [
       "<div>\n",
       "<style scoped>\n",
       "    .dataframe tbody tr th:only-of-type {\n",
       "        vertical-align: middle;\n",
       "    }\n",
       "\n",
       "    .dataframe tbody tr th {\n",
       "        vertical-align: top;\n",
       "    }\n",
       "\n",
       "    .dataframe thead th {\n",
       "        text-align: right;\n",
       "    }\n",
       "</style>\n",
       "<table border=\"1\" class=\"dataframe\">\n",
       "  <thead>\n",
       "    <tr style=\"text-align: right;\">\n",
       "      <th></th>\n",
       "      <th>users</th>\n",
       "      <th>message</th>\n",
       "    </tr>\n",
       "  </thead>\n",
       "  <tbody>\n",
       "    <tr>\n",
       "      <th>3410</th>\n",
       "      <td>@StephenSchlegel</td>\n",
       "      <td>307</td>\n",
       "    </tr>\n",
       "    <tr>\n",
       "      <th>3270</th>\n",
       "      <td>@SenSanders</td>\n",
       "      <td>243</td>\n",
       "    </tr>\n",
       "    <tr>\n",
       "      <th>6182</th>\n",
       "      <td>@realDonaldTrump</td>\n",
       "      <td>143</td>\n",
       "    </tr>\n",
       "    <tr>\n",
       "      <th>448</th>\n",
       "      <td>@BernieSanders</td>\n",
       "      <td>121</td>\n",
       "    </tr>\n",
       "    <tr>\n",
       "      <th>612</th>\n",
       "      <td>@CNN</td>\n",
       "      <td>106</td>\n",
       "    </tr>\n",
       "  </tbody>\n",
       "</table>\n",
       "</div>"
      ],
      "text/plain": [
       "                 users  message\n",
       "3410  @StephenSchlegel      307\n",
       "3270       @SenSanders      243\n",
       "6182  @realDonaldTrump      143\n",
       "448     @BernieSanders      121\n",
       "612               @CNN      106"
      ]
     },
     "execution_count": 22,
     "metadata": {},
     "output_type": "execute_result"
    }
   ],
   "source": [
    "counts.head()"
   ]
  },
  {
   "cell_type": "code",
   "execution_count": 23,
   "metadata": {},
   "outputs": [
    {
     "name": "stdout",
     "output_type": "stream",
     "text": [
      "86.0 percent of the data are from repeated tags\n"
     ]
    }
   ],
   "source": [
    "repeated_tags_rate = round(counts['message'][counts['message'] > 1].sum() * 100/len(counts['message']), 0)\n",
    "print(f\"{repeated_tags_rate} percent of the data are from repeated tags\")"
   ]
  },
  {
   "cell_type": "code",
   "execution_count": 24,
   "metadata": {},
   "outputs": [
    {
     "data": {
      "image/png": "[encoded data removed]",
      "text/plain": [
       "<Figure size 432x288 with 1 Axes>"
      ]
     },
     "metadata": {
      "needs_background": "light"
     },
     "output_type": "display_data"
    }
   ],
   "source": [
    "sns.countplot(y=\"users\", hue=\"sentiment\", data=train_df,\n",
    "              order=train_df.users.value_counts().iloc[:20].index) \n",
    "plt.ylabel('User')\n",
    "plt.xlabel('Number of Tags')\n",
    "plt.title('Top 20 Most Popular Tags')\n",
    "plt.show()"
   ]
  },
  {
   "cell_type": "markdown",
   "metadata": {},
   "source": [
    "## Creating a Word Cloud"
   ]
  },
  {
   "cell_type": "code",
   "execution_count": 83,
   "metadata": {},
   "outputs": [
    {
     "ename": "ModuleNotFoundError",
     "evalue": "No module named 'wordcloud'",
     "output_type": "error",
     "traceback": [
      "\u001b[0;31m---------------------------------------------------------------------------\u001b[0m",
      "\u001b[0;31mModuleNotFoundError\u001b[0m                       Traceback (most recent call last)",
      "\u001b[0;32m<ipython-input-83-aa90dbb19979>\u001b[0m in \u001b[0;36m<module>\u001b[0;34m\u001b[0m\n\u001b[0;32m----> 1\u001b[0;31m \u001b[0;32mfrom\u001b[0m \u001b[0mwordcloud\u001b[0m \u001b[0;32mimport\u001b[0m \u001b[0mWordCloud\u001b[0m\u001b[0;34m,\u001b[0m \u001b[0mSTOPWORDS\u001b[0m\u001b[0;34m,\u001b[0m \u001b[0mImageColorGenerator\u001b[0m\u001b[0;34m\u001b[0m\u001b[0;34m\u001b[0m\u001b[0m\n\u001b[0m\u001b[1;32m      2\u001b[0m \u001b[0;34m\u001b[0m\u001b[0m\n\u001b[1;32m      3\u001b[0m \u001b[0mtext\u001b[0m \u001b[0;34m=\u001b[0m \u001b[0;34m\" \"\u001b[0m\u001b[0;34m.\u001b[0m\u001b[0mjoin\u001b[0m\u001b[0;34m(\u001b[0m\u001b[0mtweet\u001b[0m \u001b[0;32mfor\u001b[0m \u001b[0mtweet\u001b[0m \u001b[0;32min\u001b[0m \u001b[0mtrain_df\u001b[0m\u001b[0;34m.\u001b[0m\u001b[0mmessage\u001b[0m\u001b[0;34m)\u001b[0m\u001b[0;34m\u001b[0m\u001b[0;34m\u001b[0m\u001b[0m\n\u001b[1;32m      4\u001b[0m \u001b[0mprint\u001b[0m \u001b[0;34m(\u001b[0m\u001b[0;34m\"There are {} words in the combination of all tweets.\"\u001b[0m\u001b[0;34m.\u001b[0m\u001b[0mformat\u001b[0m\u001b[0;34m(\u001b[0m\u001b[0mlen\u001b[0m\u001b[0;34m(\u001b[0m\u001b[0mtext\u001b[0m\u001b[0;34m)\u001b[0m\u001b[0;34m)\u001b[0m\u001b[0;34m)\u001b[0m\u001b[0;34m\u001b[0m\u001b[0;34m\u001b[0m\u001b[0m\n",
      "\u001b[0;31mModuleNotFoundError\u001b[0m: No module named 'wordcloud'"
     ]
    }
   ],
   "source": [
    "from wordcloud import WordCloud, STOPWORDS, ImageColorGenerator\n",
    "\n",
    "text = \" \".join(tweet for tweet in train_df.message)\n",
    "print (\"There are {} words in the combination of all tweets.\".format(len(text)))"
   ]
  },
  {
   "cell_type": "code",
   "execution_count": 84,
   "metadata": {},
   "outputs": [
    {
     "ename": "NameError",
     "evalue": "name 'WordCloud' is not defined",
     "output_type": "error",
     "traceback": [
      "\u001b[0;31m---------------------------------------------------------------------------\u001b[0m",
      "\u001b[0;31mNameError\u001b[0m                                 Traceback (most recent call last)",
      "\u001b[0;32m<ipython-input-84-06c1b1746736>\u001b[0m in \u001b[0;36m<module>\u001b[0;34m\u001b[0m\n\u001b[1;32m      1\u001b[0m \u001b[0;31m# Creating the wordcloud\u001b[0m\u001b[0;34m\u001b[0m\u001b[0;34m\u001b[0m\u001b[0;34m\u001b[0m\u001b[0m\n\u001b[0;32m----> 2\u001b[0;31m \u001b[0mwordcloud\u001b[0m \u001b[0;34m=\u001b[0m \u001b[0mWordCloud\u001b[0m\u001b[0;34m(\u001b[0m\u001b[0mbackground_color\u001b[0m\u001b[0;34m=\u001b[0m\u001b[0;34m\"white\"\u001b[0m\u001b[0;34m)\u001b[0m\u001b[0;34m.\u001b[0m\u001b[0mgenerate\u001b[0m\u001b[0;34m(\u001b[0m\u001b[0mtext\u001b[0m\u001b[0;34m)\u001b[0m\u001b[0;34m\u001b[0m\u001b[0;34m\u001b[0m\u001b[0m\n\u001b[0m\u001b[1;32m      3\u001b[0m \u001b[0;34m\u001b[0m\u001b[0m\n\u001b[1;32m      4\u001b[0m \u001b[0;31m# Displaying the wordcloud:\u001b[0m\u001b[0;34m\u001b[0m\u001b[0;34m\u001b[0m\u001b[0;34m\u001b[0m\u001b[0m\n\u001b[1;32m      5\u001b[0m \u001b[0;31m# using matplotlib way:\u001b[0m\u001b[0;34m\u001b[0m\u001b[0;34m\u001b[0m\u001b[0;34m\u001b[0m\u001b[0m\n",
      "\u001b[0;31mNameError\u001b[0m: name 'WordCloud' is not defined"
     ]
    }
   ],
   "source": [
    "# Creating the wordcloud \n",
    "wordcloud = WordCloud(background_color=\"white\").generate(text)\n",
    "\n",
    "# Displaying the wordcloud:\n",
    "# using matplotlib way:\n",
    "plt.imshow(wordcloud, interpolation='bilinear')\n",
    "plt.axis(\"off\")\n",
    "plt.show()"
   ]
  },
  {
   "cell_type": "markdown",
   "metadata": {},
   "source": [
    "# Pre-processing"
   ]
  },
  {
   "cell_type": "markdown",
   "metadata": {},
   "source": [
    "Make sure ntlk is properly downloaded and installed otherwise this code will not run!"
   ]
  },
  {
   "cell_type": "code",
   "execution_count": 25,
   "metadata": {},
   "outputs": [],
   "source": [
    "import nltk\n",
    "#nltk.download()"
   ]
  },
  {
   "cell_type": "code",
   "execution_count": 26,
   "metadata": {},
   "outputs": [],
   "source": [
    "stop_words = set(stopwords.words('english'))\n",
    "lemm = WordNetLemmatizer()\n",
    "Tokenized_Doc=[]"
   ]
  },
  {
   "cell_type": "code",
   "execution_count": 27,
   "metadata": {},
   "outputs": [],
   "source": [
    "for data in train_df['message']:\n",
    "        review = re.sub('[^a-zA-Z]', ' ', data)\n",
    "        url = re.compile(r'https?://\\S+|www\\.\\S+')\n",
    "        review = url.sub(r'',review)\n",
    "        html=re.compile(r'<.*?>')\n",
    "        review = html.sub(r'',review)\n",
    "        emojis = re.compile(\"[\"\n",
    "                           u\"\\U0001F600-\\U0001F64F\"  # emoticons\n",
    "                           u\"\\U0001F300-\\U0001F5FF\"  # symbols & pictographs\n",
    "                           u\"\\U0001F680-\\U0001F6FF\"  # transport & map symbols\n",
    "                           u\"\\U0001F1E0-\\U0001F1FF\"  # flags (iOS)\n",
    "                           u\"\\U00002702-\\U000027B0\"\n",
    "                           u\"\\U000024C2-\\U0001F251\"\n",
    "                           \"]+\", flags=re.UNICODE)\n",
    "        review = emojis.sub(r'',review)\n",
    "        tokenizer = RegexpTokenizer(r'\\w+')\n",
    "        tokens = tokenizer.tokenize(review)\n",
    "        gen_tweets = [lemm.lemmatize(token) for token in tokens if not token in stop_words]\n",
    "        Tokenized_Doc.append(gen_tweets)\n",
    "        train_df['tokenized tweets'] = pd.Series(Tokenized_Doc)"
   ]
  },
  {
   "cell_type": "code",
   "execution_count": 28,
   "metadata": {},
   "outputs": [
    {
     "data": {
      "text/plain": [
       "(15819, 5)"
      ]
     },
     "execution_count": 28,
     "metadata": {},
     "output_type": "execute_result"
    }
   ],
   "source": [
    "train_df.shape"
   ]
  },
  {
   "cell_type": "code",
   "execution_count": 29,
   "metadata": {},
   "outputs": [
    {
     "data": {
      "text/html": [
       "<div>\n",
       "<style scoped>\n",
       "    .dataframe tbody tr th:only-of-type {\n",
       "        vertical-align: middle;\n",
       "    }\n",
       "\n",
       "    .dataframe tbody tr th {\n",
       "        vertical-align: top;\n",
       "    }\n",
       "\n",
       "    .dataframe thead th {\n",
       "        text-align: right;\n",
       "    }\n",
       "</style>\n",
       "<table border=\"1\" class=\"dataframe\">\n",
       "  <thead>\n",
       "    <tr style=\"text-align: right;\">\n",
       "      <th></th>\n",
       "      <th>sentiment</th>\n",
       "      <th>message</th>\n",
       "      <th>tweetid</th>\n",
       "      <th>users</th>\n",
       "      <th>tokenized tweets</th>\n",
       "    </tr>\n",
       "  </thead>\n",
       "  <tbody>\n",
       "    <tr>\n",
       "      <th>0</th>\n",
       "      <td>Positive</td>\n",
       "      <td>PolySciMajor EPA chief doesn't think carbon di...</td>\n",
       "      <td>625221</td>\n",
       "      <td>@mashable</td>\n",
       "      <td>[PolySciMajor, EPA, chief, think, carbon, diox...</td>\n",
       "    </tr>\n",
       "    <tr>\n",
       "      <th>1</th>\n",
       "      <td>Positive</td>\n",
       "      <td>It's not like we lack evidence of anthropogeni...</td>\n",
       "      <td>126103</td>\n",
       "      <td>NaN</td>\n",
       "      <td>[It, like, lack, evidence, anthropogenic, glob...</td>\n",
       "    </tr>\n",
       "    <tr>\n",
       "      <th>2</th>\n",
       "      <td>News</td>\n",
       "      <td>RT @RawStory: Researchers say we have three ye...</td>\n",
       "      <td>698562</td>\n",
       "      <td>@RawStory</td>\n",
       "      <td>[RT, RawStory, Researchers, say, three, year, ...</td>\n",
       "    </tr>\n",
       "    <tr>\n",
       "      <th>3</th>\n",
       "      <td>Positive</td>\n",
       "      <td>#TodayinMaker# WIRED : 2016 was a pivotal year...</td>\n",
       "      <td>573736</td>\n",
       "      <td>NaN</td>\n",
       "      <td>[TodayinMaker, WIRED, pivotal, year, war, clim...</td>\n",
       "    </tr>\n",
       "    <tr>\n",
       "      <th>4</th>\n",
       "      <td>Positive</td>\n",
       "      <td>RT @SoyNovioDeTodas: It's 2016, and a racist, ...</td>\n",
       "      <td>466954</td>\n",
       "      <td>@SoyNovioDeTodas</td>\n",
       "      <td>[RT, SoyNovioDeTodas, It, racist, sexist, clim...</td>\n",
       "    </tr>\n",
       "  </tbody>\n",
       "</table>\n",
       "</div>"
      ],
      "text/plain": [
       "  sentiment                                            message  tweetid  \\\n",
       "0  Positive  PolySciMajor EPA chief doesn't think carbon di...   625221   \n",
       "1  Positive  It's not like we lack evidence of anthropogeni...   126103   \n",
       "2      News  RT @RawStory: Researchers say we have three ye...   698562   \n",
       "3  Positive  #TodayinMaker# WIRED : 2016 was a pivotal year...   573736   \n",
       "4  Positive  RT @SoyNovioDeTodas: It's 2016, and a racist, ...   466954   \n",
       "\n",
       "              users                                   tokenized tweets  \n",
       "0         @mashable  [PolySciMajor, EPA, chief, think, carbon, diox...  \n",
       "1               NaN  [It, like, lack, evidence, anthropogenic, glob...  \n",
       "2         @RawStory  [RT, RawStory, Researchers, say, three, year, ...  \n",
       "3               NaN  [TodayinMaker, WIRED, pivotal, year, war, clim...  \n",
       "4  @SoyNovioDeTodas  [RT, SoyNovioDeTodas, It, racist, sexist, clim...  "
      ]
     },
     "execution_count": 29,
     "metadata": {},
     "output_type": "execute_result"
    }
   ],
   "source": [
    "train_df.head()"
   ]
  },
  {
   "cell_type": "code",
   "execution_count": null,
   "metadata": {},
   "outputs": [],
   "source": []
  },
  {
   "cell_type": "markdown",
   "metadata": {},
   "source": [
    "<b>Analysising messages to determine which talk about climate change</b> (old section to be removed)"
   ]
  },
  {
   "cell_type": "markdown",
   "metadata": {},
   "source": [
    "We can see there are a total of 15819 messages"
   ]
  },
  {
   "cell_type": "code",
   "execution_count": 30,
   "metadata": {},
   "outputs": [
    {
     "data": {
      "text/plain": [
       "message    15819\n",
       "dtype: int64"
      ]
     },
     "execution_count": 30,
     "metadata": {},
     "output_type": "execute_result"
    }
   ],
   "source": [
    "df = pd.DataFrame(train_df['message'])\n",
    "df.count()"
   ]
  },
  {
   "cell_type": "markdown",
   "metadata": {},
   "source": [
    "We will now select all the rows which have following list of values climate and change in the message Column"
   ]
  },
  {
   "cell_type": "code",
   "execution_count": 31,
   "metadata": {},
   "outputs": [
    {
     "data": {
      "text/plain": [
       "message    12636\n",
       "dtype: int64"
      ]
     },
     "execution_count": 31,
     "metadata": {},
     "output_type": "execute_result"
    }
   ],
   "source": [
    "search_values = ['climate','change']\n",
    "df[df['message'].str.contains('|'.join(search_values ))].count()"
   ]
  },
  {
   "cell_type": "markdown",
   "metadata": {},
   "source": [
    "Of those messages 12636 contain the words 'climate' and 'change' in them"
   ]
  },
  {
   "cell_type": "code",
   "execution_count": 32,
   "metadata": {},
   "outputs": [
    {
     "data": {
      "text/plain": [
       "message    12587\n",
       "dtype: int64"
      ]
     },
     "execution_count": 32,
     "metadata": {},
     "output_type": "execute_result"
    }
   ],
   "source": [
    "df.loc[df['message'].str.contains(\"climate\")].count()"
   ]
  },
  {
   "cell_type": "markdown",
   "metadata": {},
   "source": [
    "Of those messages 12587 contain the word 'climate' in them"
   ]
  },
  {
   "cell_type": "code",
   "execution_count": 33,
   "metadata": {},
   "outputs": [
    {
     "data": {
      "text/plain": [
       "message    12547\n",
       "dtype: int64"
      ]
     },
     "execution_count": 33,
     "metadata": {},
     "output_type": "execute_result"
    }
   ],
   "source": [
    "df.loc[df['message'].str.contains(\"change\")].count()"
   ]
  },
  {
   "cell_type": "markdown",
   "metadata": {},
   "source": [
    "Of those messages 12547 contain the word 'change' in them"
   ]
  },
  {
   "cell_type": "code",
   "execution_count": 34,
   "metadata": {},
   "outputs": [
    {
     "data": {
      "text/plain": [
       "message    12471\n",
       "dtype: int64"
      ]
     },
     "execution_count": 34,
     "metadata": {},
     "output_type": "execute_result"
    }
   ],
   "source": [
    "df.loc[df['message'].str.contains(\"climate change\")].count()"
   ]
  },
  {
   "cell_type": "markdown",
   "metadata": {},
   "source": [
    "Of those messages 12471 contain the words 'climate change' in them"
   ]
  },
  {
   "cell_type": "code",
   "execution_count": 35,
   "metadata": {},
   "outputs": [
    {
     "data": {
      "text/plain": [
       "message    12636\n",
       "dtype: int64"
      ]
     },
     "execution_count": 35,
     "metadata": {},
     "output_type": "execute_result"
    }
   ],
   "source": [
    "df[df['message'].str.contains(\"climate|change\")].count()"
   ]
  },
  {
   "cell_type": "markdown",
   "metadata": {},
   "source": [
    "^^ just testing an alternaive way to search for key words"
   ]
  },
  {
   "cell_type": "markdown",
   "metadata": {},
   "source": [
    "# Pre-Processing (old section to be remade into Normalization)"
   ]
  },
  {
   "cell_type": "markdown",
   "metadata": {},
   "source": [
    "Splitting the data into features and labels"
   ]
  },
  {
   "cell_type": "code",
   "execution_count": 36,
   "metadata": {},
   "outputs": [],
   "source": [
    "# labels\n",
    "y = train['sentiment']\n",
    "\n",
    "# features\n",
    "X = train.drop('sentiment', axis=1)"
   ]
  },
  {
   "cell_type": "code",
   "execution_count": 37,
   "metadata": {},
   "outputs": [],
   "source": [
    "# Transforming the Features\n",
    "X_transformed = pd.get_dummies(X, drop_first=True)"
   ]
  },
  {
   "cell_type": "code",
   "execution_count": 38,
   "metadata": {},
   "outputs": [],
   "source": [
    "X_train, X_test, y_train, y_test = train_test_split(X_transformed, y, test_size=0.2, random_state=50)"
   ]
  },
  {
   "cell_type": "markdown",
   "metadata": {},
   "source": [
    "## Training"
   ]
  },
  {
   "cell_type": "markdown",
   "metadata": {},
   "source": [
    "Using Logistical Regression"
   ]
  },
  {
   "cell_type": "code",
   "execution_count": 39,
   "metadata": {},
   "outputs": [],
   "source": [
    "lr = LogisticRegression()"
   ]
  },
  {
   "cell_type": "code",
   "execution_count": 40,
   "metadata": {},
   "outputs": [
    {
     "name": "stderr",
     "output_type": "stream",
     "text": [
      "/Users/keletso/anaconda3/lib/python3.7/site-packages/sklearn/linear_model/logistic.py:432: FutureWarning: Default solver will be changed to 'lbfgs' in 0.22. Specify a solver to silence this warning.\n",
      "  FutureWarning)\n",
      "/Users/keletso/anaconda3/lib/python3.7/site-packages/sklearn/linear_model/logistic.py:469: FutureWarning: Default multi_class will be changed to 'auto' in 0.22. Specify the multi_class option to silence this warning.\n",
      "  \"this warning.\", FutureWarning)\n"
     ]
    },
    {
     "data": {
      "text/plain": [
       "LogisticRegression(C=1.0, class_weight=None, dual=False, fit_intercept=True,\n",
       "                   intercept_scaling=1, l1_ratio=None, max_iter=100,\n",
       "                   multi_class='warn', n_jobs=None, penalty='l2',\n",
       "                   random_state=None, solver='warn', tol=0.0001, verbose=0,\n",
       "                   warm_start=False)"
      ]
     },
     "execution_count": 40,
     "metadata": {},
     "output_type": "execute_result"
    }
   ],
   "source": [
    "lr.fit(X_train, y_train)"
   ]
  },
  {
   "cell_type": "code",
   "execution_count": 41,
   "metadata": {},
   "outputs": [
    {
     "data": {
      "text/plain": [
       "-2.3109360513214867e-11"
      ]
     },
     "execution_count": 41,
     "metadata": {},
     "output_type": "execute_result"
    }
   ],
   "source": [
    "lr.intercept_[0]"
   ]
  },
  {
   "cell_type": "code",
   "execution_count": 42,
   "metadata": {},
   "outputs": [
    {
     "data": {
      "text/html": [
       "<div>\n",
       "<style scoped>\n",
       "    .dataframe tbody tr th:only-of-type {\n",
       "        vertical-align: middle;\n",
       "    }\n",
       "\n",
       "    .dataframe tbody tr th {\n",
       "        vertical-align: top;\n",
       "    }\n",
       "\n",
       "    .dataframe thead th {\n",
       "        text-align: right;\n",
       "    }\n",
       "</style>\n",
       "<table border=\"1\" class=\"dataframe\">\n",
       "  <thead>\n",
       "    <tr style=\"text-align: right;\">\n",
       "      <th></th>\n",
       "      <th>0</th>\n",
       "      <th>1</th>\n",
       "      <th>2</th>\n",
       "      <th>3</th>\n",
       "    </tr>\n",
       "  </thead>\n",
       "  <tbody>\n",
       "    <tr>\n",
       "      <th>tweetid</th>\n",
       "      <td>-4.273087e-06</td>\n",
       "      <td>-2.860852e-06</td>\n",
       "      <td>2.570168e-07</td>\n",
       "      <td>-1.906563e-06</td>\n",
       "    </tr>\n",
       "    <tr>\n",
       "      <th>message_ yea your nudes are nice but what are your views on climate change' i just choked why is this me 😂</th>\n",
       "      <td>-6.707428e-15</td>\n",
       "      <td>4.017591e-15</td>\n",
       "      <td>-9.537915e-16</td>\n",
       "      <td>-1.778965e-15</td>\n",
       "    </tr>\n",
       "    <tr>\n",
       "      <th>message_!! climate change should not be a partisan issue !!</th>\n",
       "      <td>-3.358551e-15</td>\n",
       "      <td>-2.175176e-15</td>\n",
       "      <td>9.247261e-16</td>\n",
       "      <td>-1.437614e-15</td>\n",
       "    </tr>\n",
       "    <tr>\n",
       "      <th>message_#24hwatchparty #SimonDonner Climate Scientist From UBC giving us the history of climate change https://t.co/lJvfLHw5s4</th>\n",
       "      <td>-8.944959e-16</td>\n",
       "      <td>-9.528222e-16</td>\n",
       "      <td>-1.006624e-15</td>\n",
       "      <td>2.889339e-15</td>\n",
       "    </tr>\n",
       "    <tr>\n",
       "      <th>message_#3Novices : G-20 fails to agree on free trade and protectionism — climate change is missing, too https://t.co/azw6Gl68A4 The world's finan…</th>\n",
       "      <td>-3.653501e-15</td>\n",
       "      <td>-2.281118e-15</td>\n",
       "      <td>9.266871e-16</td>\n",
       "      <td>-1.474295e-15</td>\n",
       "    </tr>\n",
       "    <tr>\n",
       "      <th>message_#3Novices : Oceanographic training centre getting ready Oceans play a big role in studying climate change and weather forecasting patterns.Ã¢â‚¬Â¦</th>\n",
       "      <td>-2.421816e-15</td>\n",
       "      <td>-1.804292e-15</td>\n",
       "      <td>9.171319e-16</td>\n",
       "      <td>-1.302161e-15</td>\n",
       "    </tr>\n",
       "    <tr>\n",
       "      <th>message_#AJNewsGrid what do u suggest Australia does to protect the reef from global warming?The N hemisphere is causing it,R u saving the arctic?</th>\n",
       "      <td>0.000000e+00</td>\n",
       "      <td>0.000000e+00</td>\n",
       "      <td>0.000000e+00</td>\n",
       "      <td>0.000000e+00</td>\n",
       "    </tr>\n",
       "    <tr>\n",
       "      <th>message_#AMJoy 98% of scientist agree that climate change is caused by human activity.</th>\n",
       "      <td>-2.460606e-15</td>\n",
       "      <td>-1.820977e-15</td>\n",
       "      <td>9.175041e-16</td>\n",
       "      <td>-1.308537e-15</td>\n",
       "    </tr>\n",
       "    <tr>\n",
       "      <th>message_#AccordodiParigi Stop sussidi a fonti fossili contro climate change. @LeonaroDicaprio https://t.co/sUnxqootqz</th>\n",
       "      <td>-1.519988e-15</td>\n",
       "      <td>5.879866e-15</td>\n",
       "      <td>-9.901567e-16</td>\n",
       "      <td>-1.120428e-15</td>\n",
       "    </tr>\n",
       "    <tr>\n",
       "      <th>message_#AdoftheDay: Al Gore's stirring new climate change #ad calls on world leaders. https://t.co/SH8YLU8qh4 https://t.co/vnO76EM4ZG</th>\n",
       "      <td>-7.025631e-15</td>\n",
       "      <td>-3.317008e-15</td>\n",
       "      <td>9.433833e-16</td>\n",
       "      <td>-1.806745e-15</td>\n",
       "    </tr>\n",
       "    <tr>\n",
       "      <th>message_#AdoftheDay: Al Gore's stirring new climate change ad calls on world leaders. https://t.co/v5Tgo2a5uT https://t.co/Oj2aDYthtL</th>\n",
       "      <td>-2.148082e-15</td>\n",
       "      <td>-1.682259e-15</td>\n",
       "      <td>9.142961e-16</td>\n",
       "      <td>-1.254532e-15</td>\n",
       "    </tr>\n",
       "    <tr>\n",
       "      <th>message_#Ankara #London #Berlin The Latest: China calls climate change ‘global consensus’ https://t.co/yluXVcrSx7 https://t.co/es6kmtebHE</th>\n",
       "      <td>0.000000e+00</td>\n",
       "      <td>0.000000e+00</td>\n",
       "      <td>0.000000e+00</td>\n",
       "      <td>0.000000e+00</td>\n",
       "    </tr>\n",
       "    <tr>\n",
       "      <th>message_#Australia #News ; Malcolm #Turnbull dismisses climate change policy review criticisms from colleagues #auspol (Pi… https://t.co/CXqV55suKA</th>\n",
       "      <td>-2.800392e-15</td>\n",
       "      <td>-1.961636e-15</td>\n",
       "      <td>-9.753098e-16</td>\n",
       "      <td>2.439583e-15</td>\n",
       "    </tr>\n",
       "    <tr>\n",
       "      <th>message_#BREAKING G7 talks: Trump isolated over Paris climate change deal https://t.co/FStheonzqG #NEWS https://t.co/qSak0EORqr</th>\n",
       "      <td>0.000000e+00</td>\n",
       "      <td>0.000000e+00</td>\n",
       "      <td>0.000000e+00</td>\n",
       "      <td>0.000000e+00</td>\n",
       "    </tr>\n",
       "    <tr>\n",
       "      <th>message_#BeforeTheFlood Watch #BeforeTheFlood right here, as @LeoDiCaprio travels the world to tackle climate change... https://t.co/HCIZrPUhLF</th>\n",
       "      <td>-1.434416e-15</td>\n",
       "      <td>-1.315769e-15</td>\n",
       "      <td>9.041201e-16</td>\n",
       "      <td>-1.098143e-15</td>\n",
       "    </tr>\n",
       "    <tr>\n",
       "      <th>message_#BeforeTheFlood is very powerful and Ive been keeping up with dem climate change docos. You must watch it.</th>\n",
       "      <td>-1.118132e-15</td>\n",
       "      <td>-1.117380e-15</td>\n",
       "      <td>8.969025e-16</td>\n",
       "      <td>-1.001508e-15</td>\n",
       "    </tr>\n",
       "    <tr>\n",
       "      <th>message_#BeforetheFlood \\nEVERYONE must watch this!! people must understand global warming is very real @LeoDiCaprio \\nhttps://t.co/vTqnt1f6Ni</th>\n",
       "      <td>-3.801515e-15</td>\n",
       "      <td>-2.332797e-15</td>\n",
       "      <td>9.276179e-16</td>\n",
       "      <td>-1.491927e-15</td>\n",
       "    </tr>\n",
       "    <tr>\n",
       "      <th>message_#BeyondtheFlood an apathetic attitude toward climate change, will destroy the future of our planet!</th>\n",
       "      <td>-1.923293e-15</td>\n",
       "      <td>-1.575541e-15</td>\n",
       "      <td>9.116276e-16</td>\n",
       "      <td>-1.211287e-15</td>\n",
       "    </tr>\n",
       "    <tr>\n",
       "      <th>message_#BillNye Grade school science guy spreading lie of climate change #CNN donna doesn't match truth does… https://t.co/zi4lfot0ru</th>\n",
       "      <td>9.348687e-15</td>\n",
       "      <td>-3.277193e-15</td>\n",
       "      <td>-9.530371e-16</td>\n",
       "      <td>-1.794481e-15</td>\n",
       "    </tr>\n",
       "    <tr>\n",
       "      <th>message_#Breaking South, southeast face Europe's most adverse climate change impact - agency Read More : https://t.co/dpiKwUUQFg</th>\n",
       "      <td>0.000000e+00</td>\n",
       "      <td>0.000000e+00</td>\n",
       "      <td>0.000000e+00</td>\n",
       "      <td>0.000000e+00</td>\n",
       "    </tr>\n",
       "    <tr>\n",
       "      <th>message_#BreakingNews CHINA CLIMATE CHANGE - China promises to keep up fight against climate change https://t.co/9h3PTOgqPR</th>\n",
       "      <td>-1.051518e-15</td>\n",
       "      <td>-1.071018e-15</td>\n",
       "      <td>-1.000892e-15</td>\n",
       "      <td>2.823524e-15</td>\n",
       "    </tr>\n",
       "    <tr>\n",
       "      <th>message_#CLIMATE #p2 RT Pizzly or grolar bear: grizzly-polar hybrid is a new result of climate change… https://t.co/dMpQYKfn1R</th>\n",
       "      <td>-3.861452e-15</td>\n",
       "      <td>-2.353466e-15</td>\n",
       "      <td>-9.678392e-16</td>\n",
       "      <td>2.301790e-15</td>\n",
       "    </tr>\n",
       "    <tr>\n",
       "      <th>message_#Calexit began before the primaries. It's about economy, climate change, and why California is so different from thÃ¢â‚¬Â¦ https://t.co/bsVYA9Nyfg</th>\n",
       "      <td>-9.828533e-16</td>\n",
       "      <td>-1.021035e-15</td>\n",
       "      <td>8.926480e-16</td>\n",
       "      <td>-9.500951e-16</td>\n",
       "    </tr>\n",
       "    <tr>\n",
       "      <th>message_#California won't meet its #climate change goals without a lot more #housing density in its cities https://t.co/WXSsark0SQ @dillonliam</th>\n",
       "      <td>-3.895780e-15</td>\n",
       "      <td>-2.365240e-15</td>\n",
       "      <td>9.281943e-16</td>\n",
       "      <td>-1.502915e-15</td>\n",
       "    </tr>\n",
       "    <tr>\n",
       "      <th>message_#China Briefing: China acting on climate change: https://t.co/1Y50LxQYNk provides the full transcript of the S... https://t.co/5PVS0oSl8h</th>\n",
       "      <td>-4.903042e-15</td>\n",
       "      <td>4.551203e-15</td>\n",
       "      <td>-9.620849e-16</td>\n",
       "      <td>-1.611041e-15</td>\n",
       "    </tr>\n",
       "    <tr>\n",
       "      <th>message_#Climate4Impact usecase: #Impacts of #climate change on #crop #yields in the #tropics https://t.co/JmbeUj1SV6</th>\n",
       "      <td>-1.336893e-15</td>\n",
       "      <td>-1.257848e-15</td>\n",
       "      <td>9.021819e-16</td>\n",
       "      <td>-1.071020e-15</td>\n",
       "    </tr>\n",
       "    <tr>\n",
       "      <th>message_#ClimateChange #GlobalWarming China clarifies for Trump: uh, no, global warming is not a Chinese hoax https://t.co/KIcoQrLrFF via @voxdotcom</th>\n",
       "      <td>0.000000e+00</td>\n",
       "      <td>0.000000e+00</td>\n",
       "      <td>0.000000e+00</td>\n",
       "      <td>0.000000e+00</td>\n",
       "    </tr>\n",
       "    <tr>\n",
       "      <th>message_#ClimateChange: @WMO - Record-breaking climate change pushes world into ‘uncharted territory’\\n\\nhttps://t.co/bIZoqQCjKJ</th>\n",
       "      <td>-2.370607e-15</td>\n",
       "      <td>-1.782047e-15</td>\n",
       "      <td>-9.791948e-16</td>\n",
       "      <td>2.507113e-15</td>\n",
       "    </tr>\n",
       "    <tr>\n",
       "      <th>message_#ClimateChange|'The net damage costs of climate change are likely to be significant and to increase over time.' https://t.co/VWc54EkUQ8</th>\n",
       "      <td>-6.547749e-15</td>\n",
       "      <td>-3.181403e-15</td>\n",
       "      <td>9.413479e-16</td>\n",
       "      <td>-1.764888e-15</td>\n",
       "    </tr>\n",
       "    <tr>\n",
       "      <th>message_#ClimateNPS MAN STUPID! Ã¢â‚¬â€ A powerful musical message on climate change co-written by a GorillaÃ¢â‚¬Â¦ https://t.co/O7hJltLk1n</th>\n",
       "      <td>-2.316012e-15</td>\n",
       "      <td>5.486459e-15</td>\n",
       "      <td>-9.797434e-16</td>\n",
       "      <td>-1.284323e-15</td>\n",
       "    </tr>\n",
       "    <tr>\n",
       "      <th>...</th>\n",
       "      <td>...</td>\n",
       "      <td>...</td>\n",
       "      <td>...</td>\n",
       "      <td>...</td>\n",
       "    </tr>\n",
       "    <tr>\n",
       "      <th>message_“Anxiety about Trump’s environmental stance could be a factor in Americans’ heightened concern about global warming… https://t.co/LHLXn0UHY1</th>\n",
       "      <td>-3.577526e-15</td>\n",
       "      <td>-2.254221e-15</td>\n",
       "      <td>-9.696288e-16</td>\n",
       "      <td>2.335672e-15</td>\n",
       "    </tr>\n",
       "    <tr>\n",
       "      <th>message_“Aside from climate change, this reinvention of work is the most wicked problem facing humanity” https://t.co/Av1zeEgnu0 #futureofwork #jobs</th>\n",
       "      <td>-1.159776e-15</td>\n",
       "      <td>-1.145420e-15</td>\n",
       "      <td>8.980329e-16</td>\n",
       "      <td>-1.015855e-15</td>\n",
       "    </tr>\n",
       "    <tr>\n",
       "      <th>message_“Chevron is first oil major to warn investors of risks from climate change lawsuits” https://t.co/keSMtYs4Nh #abpoli #oilsands #tarsands</th>\n",
       "      <td>-4.883381e-15</td>\n",
       "      <td>-2.687171e-15</td>\n",
       "      <td>9.336404e-16</td>\n",
       "      <td>-1.609063e-15</td>\n",
       "    </tr>\n",
       "    <tr>\n",
       "      <th>message_“EPA head falsely claims carbon emissions aren’t the cause of global warming” by @samanthadpage https://t.co/TFtGYkHIGz</th>\n",
       "      <td>-1.248981e-15</td>\n",
       "      <td>-1.203325e-15</td>\n",
       "      <td>9.002403e-16</td>\n",
       "      <td>-1.044713e-15</td>\n",
       "    </tr>\n",
       "    <tr>\n",
       "      <th>message_“European Environmental Agency - climate change will hit genetic biodiversity in all European regions... https://t.co/7SsQ1DhBIO</th>\n",
       "      <td>-3.845232e-15</td>\n",
       "      <td>-2.347887e-15</td>\n",
       "      <td>-9.679382e-16</td>\n",
       "      <td>2.303679e-15</td>\n",
       "    </tr>\n",
       "    <tr>\n",
       "      <th>message_“It’s freezing and snowing in New York – we need global warming!” -Donald Trump #POTUS #DonaldTrump #Trump #TrumpProtest</th>\n",
       "      <td>-1.129351e-15</td>\n",
       "      <td>-1.125002e-15</td>\n",
       "      <td>8.972141e-16</td>\n",
       "      <td>-1.005433e-15</td>\n",
       "    </tr>\n",
       "    <tr>\n",
       "      <th>message_“Only the second warmest? That means global temperatures are falling!” - An anthropogenic climate change denialist. https://t.co/kUsi2hCZew</th>\n",
       "      <td>-2.585857e-15</td>\n",
       "      <td>-1.873931e-15</td>\n",
       "      <td>9.186634e-16</td>\n",
       "      <td>-1.328575e-15</td>\n",
       "    </tr>\n",
       "    <tr>\n",
       "      <th>message_“The Earth’s ice is melting fast due to global warming” by @okomaorg https://t.co/BXlCxwqVZc</th>\n",
       "      <td>-2.395344e-15</td>\n",
       "      <td>-1.792824e-15</td>\n",
       "      <td>9.168740e-16</td>\n",
       "      <td>-1.297760e-15</td>\n",
       "    </tr>\n",
       "    <tr>\n",
       "      <th>message_“The Global Military Advisory Council on Climate Change has warned the impact of global warming will drive massive…” https://t.co/wRvUyifPJd</th>\n",
       "      <td>-7.052888e-15</td>\n",
       "      <td>-3.324693e-15</td>\n",
       "      <td>-9.523270e-16</td>\n",
       "      <td>1.991613e-15</td>\n",
       "    </tr>\n",
       "    <tr>\n",
       "      <th>message_“The challenges we face, like…..climate change..”.\\nOh, dear, Theresa, was very good speech up to that point.\\nThen you lost it.\\n#Davos #wef17</th>\n",
       "      <td>-1.073732e-15</td>\n",
       "      <td>-1.086697e-15</td>\n",
       "      <td>8.956139e-16</td>\n",
       "      <td>-9.855060e-16</td>\n",
       "    </tr>\n",
       "    <tr>\n",
       "      <th>message_“The human magnitude of climate change looks more like a meteorite strike than a gradual change' #renewables crucia… https://t.co/g2eKJp19cG</th>\n",
       "      <td>0.000000e+00</td>\n",
       "      <td>0.000000e+00</td>\n",
       "      <td>0.000000e+00</td>\n",
       "      <td>0.000000e+00</td>\n",
       "    </tr>\n",
       "    <tr>\n",
       "      <th>message_“There is no Wikipedia entry on climate change in Malagasy, the national language of Madagascar” –@cervisarius https://t.co/iqCITujZoj</th>\n",
       "      <td>-1.194329e-15</td>\n",
       "      <td>6.076324e-15</td>\n",
       "      <td>-9.969050e-16</td>\n",
       "      <td>-1.027318e-15</td>\n",
       "    </tr>\n",
       "    <tr>\n",
       "      <th>message_“This is a stark warning showing why we need greater action on climate change fast,” said Friends of the Earth... https://t.co/Fa3YVa0bqg</th>\n",
       "      <td>0.000000e+00</td>\n",
       "      <td>0.000000e+00</td>\n",
       "      <td>0.000000e+00</td>\n",
       "      <td>0.000000e+00</td>\n",
       "    </tr>\n",
       "    <tr>\n",
       "      <th>message_“Trump lines up staff to avoid international action on climate change” by @samanthadpage https://t.co/RFZKEMQCKR</th>\n",
       "      <td>-1.217674e-15</td>\n",
       "      <td>-1.183319e-15</td>\n",
       "      <td>8.994957e-16</td>\n",
       "      <td>-1.034854e-15</td>\n",
       "    </tr>\n",
       "    <tr>\n",
       "      <th>message_“Yet another Trump advisor is clueless on climate change” by @climateprogress https://t.co/ApAmIIBdJJ</th>\n",
       "      <td>-1.010043e-15</td>\n",
       "      <td>-1.041115e-15</td>\n",
       "      <td>8.935879e-16</td>\n",
       "      <td>-9.611030e-16</td>\n",
       "    </tr>\n",
       "    <tr>\n",
       "      <th>message_“how nature and people, including human-induced climate change, alter the pathways of water”</th>\n",
       "      <td>0.000000e+00</td>\n",
       "      <td>0.000000e+00</td>\n",
       "      <td>0.000000e+00</td>\n",
       "      <td>0.000000e+00</td>\n",
       "    </tr>\n",
       "    <tr>\n",
       "      <th>message_“the overwhelming conclusions of the world’s scientists that climate change is largely human-caused and needs immed… https://t.co/osMIBnuitG</th>\n",
       "      <td>-1.483377e-15</td>\n",
       "      <td>-1.343940e-15</td>\n",
       "      <td>9.050216e-16</td>\n",
       "      <td>-1.111052e-15</td>\n",
       "    </tr>\n",
       "    <tr>\n",
       "      <th>message_•global warming: before and after photoshop• https://t.co/CdjdSOQe0w</th>\n",
       "      <td>0.000000e+00</td>\n",
       "      <td>0.000000e+00</td>\n",
       "      <td>0.000000e+00</td>\n",
       "      <td>0.000000e+00</td>\n",
       "    </tr>\n",
       "    <tr>\n",
       "      <th>message_… no, I would not agree that it’s a primary contributor to the global warming that we see — EPA Scott Pruitt #quote #climatechange #Denier</th>\n",
       "      <td>-7.348278e-15</td>\n",
       "      <td>-3.407711e-15</td>\n",
       "      <td>9.447343e-16</td>\n",
       "      <td>-1.834623e-15</td>\n",
       "    </tr>\n",
       "    <tr>\n",
       "      <th>message_♥The Taiwan government should apologize to the whole world, making air pollution caused the global warming.\\n\\nhttps://t.co/FsXnyOQb1m</th>\n",
       "      <td>0.000000e+00</td>\n",
       "      <td>0.000000e+00</td>\n",
       "      <td>0.000000e+00</td>\n",
       "      <td>0.000000e+00</td>\n",
       "    </tr>\n",
       "    <tr>\n",
       "      <th>message_♥The Taiwan government should apologize to the whole world, making air pollution caused the global warming.\\n\\nhttps://t.co/iSY6XmoBmq</th>\n",
       "      <td>0.000000e+00</td>\n",
       "      <td>0.000000e+00</td>\n",
       "      <td>0.000000e+00</td>\n",
       "      <td>0.000000e+00</td>\n",
       "    </tr>\n",
       "    <tr>\n",
       "      <th>message_⚡️ “Meteorologist opens up about the struggle with fighting climate change”\\n\\nhttps://t.co/PaHjDABAMU</th>\n",
       "      <td>-5.008335e-15</td>\n",
       "      <td>-2.725988e-15</td>\n",
       "      <td>-9.615558e-16</td>\n",
       "      <td>2.179162e-15</td>\n",
       "    </tr>\n",
       "    <tr>\n",
       "      <th>message_❤The Taiwan government should apologize to the whole world, making air pollution caused the global warming. https://t.co/LmKM1k2uTU</th>\n",
       "      <td>0.000000e+00</td>\n",
       "      <td>0.000000e+00</td>\n",
       "      <td>0.000000e+00</td>\n",
       "      <td>0.000000e+00</td>\n",
       "    </tr>\n",
       "    <tr>\n",
       "      <th>message_❤The Taiwan government should apologize to the whole world, making air pollution caused the global warming. https://t.co/qzuFsmnyYY</th>\n",
       "      <td>-3.499029e-15</td>\n",
       "      <td>5.018354e-15</td>\n",
       "      <td>-9.701460e-16</td>\n",
       "      <td>-1.455357e-15</td>\n",
       "    </tr>\n",
       "    <tr>\n",
       "      <th>message_ＮＨＫラジオ英会話2015.5.25より\\n\\nclimate change(名詞)\\n\\n気候変動</th>\n",
       "      <td>0.000000e+00</td>\n",
       "      <td>0.000000e+00</td>\n",
       "      <td>0.000000e+00</td>\n",
       "      <td>0.000000e+00</td>\n",
       "    </tr>\n",
       "    <tr>\n",
       "      <th>message_�� Most Americans want 'aggressive' action on climate change: Reuters/Ipsos poll https://t.co/zV8j28UcFh https://t.co/414CgDAI1F</th>\n",
       "      <td>-1.684014e-15</td>\n",
       "      <td>-1.453921e-15</td>\n",
       "      <td>-9.875050e-16</td>\n",
       "      <td>2.640857e-15</td>\n",
       "    </tr>\n",
       "    <tr>\n",
       "      <th>message_�� namikawas: weavemama: maybe gangster whales is what we need in order to fight climate change Whales,... https://t.co/Np8OJBY52v</th>\n",
       "      <td>-1.196993e-15</td>\n",
       "      <td>6.074587e-15</td>\n",
       "      <td>-9.968383e-16</td>\n",
       "      <td>-1.028187e-15</td>\n",
       "    </tr>\n",
       "    <tr>\n",
       "      <th>message_����will continue to lead in climate change &amp;amp; working together with ���� https://t.co/rlFokndFMX</th>\n",
       "      <td>-1.634796e-15</td>\n",
       "      <td>-1.427691e-15</td>\n",
       "      <td>9.075627e-16</td>\n",
       "      <td>-1.148440e-15</td>\n",
       "    </tr>\n",
       "    <tr>\n",
       "      <th>message_📢 #ClimateChange \\nPeople prepare to fight their governments on climate change https://t.co/rcJ9VoUL7T\\n#KRTpro #News</th>\n",
       "      <td>-1.544914e-15</td>\n",
       "      <td>-1.378564e-15</td>\n",
       "      <td>-9.897289e-16</td>\n",
       "      <td>2.674041e-15</td>\n",
       "    </tr>\n",
       "    <tr>\n",
       "      <th>message_😠 SIGN to restore &amp;amp; maintain accurate science-based info on climate change to the White House website https://t.co/OAcWWDzjeK</th>\n",
       "      <td>-3.089698e-15</td>\n",
       "      <td>-2.074690e-15</td>\n",
       "      <td>9.227920e-16</td>\n",
       "      <td>-1.402086e-15</td>\n",
       "    </tr>\n",
       "  </tbody>\n",
       "</table>\n",
       "<p>14229 rows × 4 columns</p>\n",
       "</div>"
      ],
      "text/plain": [
       "                                                               0  \\\n",
       "tweetid                                            -4.273087e-06   \n",
       "message_ yea your nudes are nice but what are y... -6.707428e-15   \n",
       "message_!! climate change should not be a parti... -3.358551e-15   \n",
       "message_#24hwatchparty #SimonDonner Climate Sci... -8.944959e-16   \n",
       "message_#3Novices : G-20 fails to agree on free... -3.653501e-15   \n",
       "message_#3Novices : Oceanographic training cent... -2.421816e-15   \n",
       "message_#AJNewsGrid what do u suggest Australia...  0.000000e+00   \n",
       "message_#AMJoy 98% of scientist agree that clim... -2.460606e-15   \n",
       "message_#AccordodiParigi Stop sussidi a fonti f... -1.519988e-15   \n",
       "message_#AdoftheDay: Al Gore's stirring new cli... -7.025631e-15   \n",
       "message_#AdoftheDay: Al Gore's stirring new cli... -2.148082e-15   \n",
       "message_#Ankara #London #Berlin The Latest: Chi...  0.000000e+00   \n",
       "message_#Australia #News ; Malcolm #Turnbull di... -2.800392e-15   \n",
       "message_#BREAKING G7 talks: Trump isolated over...  0.000000e+00   \n",
       "message_#BeforeTheFlood Watch #BeforeTheFlood r... -1.434416e-15   \n",
       "message_#BeforeTheFlood is very powerful and Iv... -1.118132e-15   \n",
       "message_#BeforetheFlood \\nEVERYONE must watch t... -3.801515e-15   \n",
       "message_#BeyondtheFlood an apathetic attitude t... -1.923293e-15   \n",
       "message_#BillNye Grade school science guy sprea...  9.348687e-15   \n",
       "message_#Breaking South, southeast face Europe'...  0.000000e+00   \n",
       "message_#BreakingNews CHINA CLIMATE CHANGE - Ch... -1.051518e-15   \n",
       "message_#CLIMATE #p2 RT Pizzly or grolar bear: ... -3.861452e-15   \n",
       "message_#Calexit began before the primaries. It... -9.828533e-16   \n",
       "message_#California won't meet its #climate cha... -3.895780e-15   \n",
       "message_#China Briefing: China acting on climat... -4.903042e-15   \n",
       "message_#Climate4Impact usecase: #Impacts of #c... -1.336893e-15   \n",
       "message_#ClimateChange #GlobalWarming China cla...  0.000000e+00   \n",
       "message_#ClimateChange: @WMO - Record-breaking ... -2.370607e-15   \n",
       "message_#ClimateChange|'The net damage costs of... -6.547749e-15   \n",
       "message_#ClimateNPS MAN STUPID! Ã¢â‚¬â€ A powe... -2.316012e-15   \n",
       "...                                                          ...   \n",
       "message_“Anxiety about Trump’s environmental st... -3.577526e-15   \n",
       "message_“Aside from climate change, this reinve... -1.159776e-15   \n",
       "message_“Chevron is first oil major to warn inv... -4.883381e-15   \n",
       "message_“EPA head falsely claims carbon emissio... -1.248981e-15   \n",
       "message_“European Environmental Agency - climat... -3.845232e-15   \n",
       "message_“It’s freezing and snowing in New York ... -1.129351e-15   \n",
       "message_“Only the second warmest? That means gl... -2.585857e-15   \n",
       "message_“The Earth’s ice is melting fast due to... -2.395344e-15   \n",
       "message_“The Global Military Advisory Council o... -7.052888e-15   \n",
       "message_“The challenges we face, like…..climate... -1.073732e-15   \n",
       "message_“The human magnitude of climate change ...  0.000000e+00   \n",
       "message_“There is no Wikipedia entry on climate... -1.194329e-15   \n",
       "message_“This is a stark warning showing why we...  0.000000e+00   \n",
       "message_“Trump lines up staff to avoid internat... -1.217674e-15   \n",
       "message_“Yet another Trump advisor is clueless ... -1.010043e-15   \n",
       "message_“how nature and people, including human...  0.000000e+00   \n",
       "message_“the overwhelming conclusions of the wo... -1.483377e-15   \n",
       "message_•global warming: before and after photo...  0.000000e+00   \n",
       "message_… no, I would not agree that it’s a pri... -7.348278e-15   \n",
       "message_♥The Taiwan government should apologize...  0.000000e+00   \n",
       "message_♥The Taiwan government should apologize...  0.000000e+00   \n",
       "message_⚡️ “Meteorologist opens up about the st... -5.008335e-15   \n",
       "message_❤The Taiwan government should apologize...  0.000000e+00   \n",
       "message_❤The Taiwan government should apologize... -3.499029e-15   \n",
       "message_ＮＨＫラジオ英会話2015.5.25より\\n\\nclimate change(...  0.000000e+00   \n",
       "message_�� Most Americans want 'aggressive' act... -1.684014e-15   \n",
       "message_�� namikawas: weavemama: maybe gangster... -1.196993e-15   \n",
       "message_����will continue to lead in climate ch... -1.634796e-15   \n",
       "message_📢 #ClimateChange \\nPeople prepare to fi... -1.544914e-15   \n",
       "message_😠 SIGN to restore &amp; maintain accura... -3.089698e-15   \n",
       "\n",
       "                                                               1  \\\n",
       "tweetid                                            -2.860852e-06   \n",
       "message_ yea your nudes are nice but what are y...  4.017591e-15   \n",
       "message_!! climate change should not be a parti... -2.175176e-15   \n",
       "message_#24hwatchparty #SimonDonner Climate Sci... -9.528222e-16   \n",
       "message_#3Novices : G-20 fails to agree on free... -2.281118e-15   \n",
       "message_#3Novices : Oceanographic training cent... -1.804292e-15   \n",
       "message_#AJNewsGrid what do u suggest Australia...  0.000000e+00   \n",
       "message_#AMJoy 98% of scientist agree that clim... -1.820977e-15   \n",
       "message_#AccordodiParigi Stop sussidi a fonti f...  5.879866e-15   \n",
       "message_#AdoftheDay: Al Gore's stirring new cli... -3.317008e-15   \n",
       "message_#AdoftheDay: Al Gore's stirring new cli... -1.682259e-15   \n",
       "message_#Ankara #London #Berlin The Latest: Chi...  0.000000e+00   \n",
       "message_#Australia #News ; Malcolm #Turnbull di... -1.961636e-15   \n",
       "message_#BREAKING G7 talks: Trump isolated over...  0.000000e+00   \n",
       "message_#BeforeTheFlood Watch #BeforeTheFlood r... -1.315769e-15   \n",
       "message_#BeforeTheFlood is very powerful and Iv... -1.117380e-15   \n",
       "message_#BeforetheFlood \\nEVERYONE must watch t... -2.332797e-15   \n",
       "message_#BeyondtheFlood an apathetic attitude t... -1.575541e-15   \n",
       "message_#BillNye Grade school science guy sprea... -3.277193e-15   \n",
       "message_#Breaking South, southeast face Europe'...  0.000000e+00   \n",
       "message_#BreakingNews CHINA CLIMATE CHANGE - Ch... -1.071018e-15   \n",
       "message_#CLIMATE #p2 RT Pizzly or grolar bear: ... -2.353466e-15   \n",
       "message_#Calexit began before the primaries. It... -1.021035e-15   \n",
       "message_#California won't meet its #climate cha... -2.365240e-15   \n",
       "message_#China Briefing: China acting on climat...  4.551203e-15   \n",
       "message_#Climate4Impact usecase: #Impacts of #c... -1.257848e-15   \n",
       "message_#ClimateChange #GlobalWarming China cla...  0.000000e+00   \n",
       "message_#ClimateChange: @WMO - Record-breaking ... -1.782047e-15   \n",
       "message_#ClimateChange|'The net damage costs of... -3.181403e-15   \n",
       "message_#ClimateNPS MAN STUPID! Ã¢â‚¬â€ A powe...  5.486459e-15   \n",
       "...                                                          ...   \n",
       "message_“Anxiety about Trump’s environmental st... -2.254221e-15   \n",
       "message_“Aside from climate change, this reinve... -1.145420e-15   \n",
       "message_“Chevron is first oil major to warn inv... -2.687171e-15   \n",
       "message_“EPA head falsely claims carbon emissio... -1.203325e-15   \n",
       "message_“European Environmental Agency - climat... -2.347887e-15   \n",
       "message_“It’s freezing and snowing in New York ... -1.125002e-15   \n",
       "message_“Only the second warmest? That means gl... -1.873931e-15   \n",
       "message_“The Earth’s ice is melting fast due to... -1.792824e-15   \n",
       "message_“The Global Military Advisory Council o... -3.324693e-15   \n",
       "message_“The challenges we face, like…..climate... -1.086697e-15   \n",
       "message_“The human magnitude of climate change ...  0.000000e+00   \n",
       "message_“There is no Wikipedia entry on climate...  6.076324e-15   \n",
       "message_“This is a stark warning showing why we...  0.000000e+00   \n",
       "message_“Trump lines up staff to avoid internat... -1.183319e-15   \n",
       "message_“Yet another Trump advisor is clueless ... -1.041115e-15   \n",
       "message_“how nature and people, including human...  0.000000e+00   \n",
       "message_“the overwhelming conclusions of the wo... -1.343940e-15   \n",
       "message_•global warming: before and after photo...  0.000000e+00   \n",
       "message_… no, I would not agree that it’s a pri... -3.407711e-15   \n",
       "message_♥The Taiwan government should apologize...  0.000000e+00   \n",
       "message_♥The Taiwan government should apologize...  0.000000e+00   \n",
       "message_⚡️ “Meteorologist opens up about the st... -2.725988e-15   \n",
       "message_❤The Taiwan government should apologize...  0.000000e+00   \n",
       "message_❤The Taiwan government should apologize...  5.018354e-15   \n",
       "message_ＮＨＫラジオ英会話2015.5.25より\\n\\nclimate change(...  0.000000e+00   \n",
       "message_�� Most Americans want 'aggressive' act... -1.453921e-15   \n",
       "message_�� namikawas: weavemama: maybe gangster...  6.074587e-15   \n",
       "message_����will continue to lead in climate ch... -1.427691e-15   \n",
       "message_📢 #ClimateChange \\nPeople prepare to fi... -1.378564e-15   \n",
       "message_😠 SIGN to restore &amp; maintain accura... -2.074690e-15   \n",
       "\n",
       "                                                               2             3  \n",
       "tweetid                                             2.570168e-07 -1.906563e-06  \n",
       "message_ yea your nudes are nice but what are y... -9.537915e-16 -1.778965e-15  \n",
       "message_!! climate change should not be a parti...  9.247261e-16 -1.437614e-15  \n",
       "message_#24hwatchparty #SimonDonner Climate Sci... -1.006624e-15  2.889339e-15  \n",
       "message_#3Novices : G-20 fails to agree on free...  9.266871e-16 -1.474295e-15  \n",
       "message_#3Novices : Oceanographic training cent...  9.171319e-16 -1.302161e-15  \n",
       "message_#AJNewsGrid what do u suggest Australia...  0.000000e+00  0.000000e+00  \n",
       "message_#AMJoy 98% of scientist agree that clim...  9.175041e-16 -1.308537e-15  \n",
       "message_#AccordodiParigi Stop sussidi a fonti f... -9.901567e-16 -1.120428e-15  \n",
       "message_#AdoftheDay: Al Gore's stirring new cli...  9.433833e-16 -1.806745e-15  \n",
       "message_#AdoftheDay: Al Gore's stirring new cli...  9.142961e-16 -1.254532e-15  \n",
       "message_#Ankara #London #Berlin The Latest: Chi...  0.000000e+00  0.000000e+00  \n",
       "message_#Australia #News ; Malcolm #Turnbull di... -9.753098e-16  2.439583e-15  \n",
       "message_#BREAKING G7 talks: Trump isolated over...  0.000000e+00  0.000000e+00  \n",
       "message_#BeforeTheFlood Watch #BeforeTheFlood r...  9.041201e-16 -1.098143e-15  \n",
       "message_#BeforeTheFlood is very powerful and Iv...  8.969025e-16 -1.001508e-15  \n",
       "message_#BeforetheFlood \\nEVERYONE must watch t...  9.276179e-16 -1.491927e-15  \n",
       "message_#BeyondtheFlood an apathetic attitude t...  9.116276e-16 -1.211287e-15  \n",
       "message_#BillNye Grade school science guy sprea... -9.530371e-16 -1.794481e-15  \n",
       "message_#Breaking South, southeast face Europe'...  0.000000e+00  0.000000e+00  \n",
       "message_#BreakingNews CHINA CLIMATE CHANGE - Ch... -1.000892e-15  2.823524e-15  \n",
       "message_#CLIMATE #p2 RT Pizzly or grolar bear: ... -9.678392e-16  2.301790e-15  \n",
       "message_#Calexit began before the primaries. It...  8.926480e-16 -9.500951e-16  \n",
       "message_#California won't meet its #climate cha...  9.281943e-16 -1.502915e-15  \n",
       "message_#China Briefing: China acting on climat... -9.620849e-16 -1.611041e-15  \n",
       "message_#Climate4Impact usecase: #Impacts of #c...  9.021819e-16 -1.071020e-15  \n",
       "message_#ClimateChange #GlobalWarming China cla...  0.000000e+00  0.000000e+00  \n",
       "message_#ClimateChange: @WMO - Record-breaking ... -9.791948e-16  2.507113e-15  \n",
       "message_#ClimateChange|'The net damage costs of...  9.413479e-16 -1.764888e-15  \n",
       "message_#ClimateNPS MAN STUPID! Ã¢â‚¬â€ A powe... -9.797434e-16 -1.284323e-15  \n",
       "...                                                          ...           ...  \n",
       "message_“Anxiety about Trump’s environmental st... -9.696288e-16  2.335672e-15  \n",
       "message_“Aside from climate change, this reinve...  8.980329e-16 -1.015855e-15  \n",
       "message_“Chevron is first oil major to warn inv...  9.336404e-16 -1.609063e-15  \n",
       "message_“EPA head falsely claims carbon emissio...  9.002403e-16 -1.044713e-15  \n",
       "message_“European Environmental Agency - climat... -9.679382e-16  2.303679e-15  \n",
       "message_“It’s freezing and snowing in New York ...  8.972141e-16 -1.005433e-15  \n",
       "message_“Only the second warmest? That means gl...  9.186634e-16 -1.328575e-15  \n",
       "message_“The Earth’s ice is melting fast due to...  9.168740e-16 -1.297760e-15  \n",
       "message_“The Global Military Advisory Council o... -9.523270e-16  1.991613e-15  \n",
       "message_“The challenges we face, like…..climate...  8.956139e-16 -9.855060e-16  \n",
       "message_“The human magnitude of climate change ...  0.000000e+00  0.000000e+00  \n",
       "message_“There is no Wikipedia entry on climate... -9.969050e-16 -1.027318e-15  \n",
       "message_“This is a stark warning showing why we...  0.000000e+00  0.000000e+00  \n",
       "message_“Trump lines up staff to avoid internat...  8.994957e-16 -1.034854e-15  \n",
       "message_“Yet another Trump advisor is clueless ...  8.935879e-16 -9.611030e-16  \n",
       "message_“how nature and people, including human...  0.000000e+00  0.000000e+00  \n",
       "message_“the overwhelming conclusions of the wo...  9.050216e-16 -1.111052e-15  \n",
       "message_•global warming: before and after photo...  0.000000e+00  0.000000e+00  \n",
       "message_… no, I would not agree that it’s a pri...  9.447343e-16 -1.834623e-15  \n",
       "message_♥The Taiwan government should apologize...  0.000000e+00  0.000000e+00  \n",
       "message_♥The Taiwan government should apologize...  0.000000e+00  0.000000e+00  \n",
       "message_⚡️ “Meteorologist opens up about the st... -9.615558e-16  2.179162e-15  \n",
       "message_❤The Taiwan government should apologize...  0.000000e+00  0.000000e+00  \n",
       "message_❤The Taiwan government should apologize... -9.701460e-16 -1.455357e-15  \n",
       "message_ＮＨＫラジオ英会話2015.5.25より\\n\\nclimate change(...  0.000000e+00  0.000000e+00  \n",
       "message_�� Most Americans want 'aggressive' act... -9.875050e-16  2.640857e-15  \n",
       "message_�� namikawas: weavemama: maybe gangster... -9.968383e-16 -1.028187e-15  \n",
       "message_����will continue to lead in climate ch...  9.075627e-16 -1.148440e-15  \n",
       "message_📢 #ClimateChange \\nPeople prepare to fi... -9.897289e-16  2.674041e-15  \n",
       "message_😠 SIGN to restore &amp; maintain accura...  9.227920e-16 -1.402086e-15  \n",
       "\n",
       "[14229 rows x 4 columns]"
      ]
     },
     "execution_count": 42,
     "metadata": {},
     "output_type": "execute_result"
    }
   ],
   "source": [
    "coeff_df = pd.DataFrame(lr.coef_.T, X_transformed.columns)\n",
    "coeff_df"
   ]
  },
  {
   "cell_type": "code",
   "execution_count": 47,
   "metadata": {},
   "outputs": [],
   "source": [
    "pred_lr = lr.predict(X_test)"
   ]
  },
  {
   "cell_type": "markdown",
   "metadata": {},
   "source": [
    "Assessing Model Performance:"
   ]
  },
  {
   "cell_type": "code",
   "execution_count": 46,
   "metadata": {},
   "outputs": [],
   "source": [
    "from sklearn.metrics import confusion_matrix"
   ]
  },
  {
   "cell_type": "code",
   "execution_count": 48,
   "metadata": {},
   "outputs": [
    {
     "data": {
      "text/plain": [
       "array([[   0,    0,  254,    0],\n",
       "       [   0,    0,  457,    0],\n",
       "       [   0,    0, 1736,    0],\n",
       "       [   0,    0,  717,    0]])"
      ]
     },
     "execution_count": 48,
     "metadata": {},
     "output_type": "execute_result"
    }
   ],
   "source": [
    "confusion_matrix(y_test, pred_lr)"
   ]
  },
  {
   "cell_type": "code",
   "execution_count": 49,
   "metadata": {},
   "outputs": [],
   "source": [
    "from sklearn.metrics import classification_report"
   ]
  },
  {
   "cell_type": "code",
   "execution_count": 51,
   "metadata": {},
   "outputs": [
    {
     "name": "stdout",
     "output_type": "stream",
     "text": [
      "Classification Report\n",
      "              precision    recall  f1-score   support\n",
      "\n",
      "-1: Negative       0.00      0.00      0.00       254\n",
      "  0: Neutral       0.00      0.00      0.00       457\n",
      " 1: Positive       0.55      1.00      0.71      1736\n",
      "     2: News       0.00      0.00      0.00       717\n",
      "\n",
      "    accuracy                           0.55      3164\n",
      "   macro avg       0.14      0.25      0.18      3164\n",
      "weighted avg       0.30      0.55      0.39      3164\n",
      "\n"
     ]
    },
    {
     "name": "stderr",
     "output_type": "stream",
     "text": [
      "/Users/keletso/anaconda3/lib/python3.7/site-packages/sklearn/metrics/classification.py:1437: UndefinedMetricWarning: Precision and F-score are ill-defined and being set to 0.0 in labels with no predicted samples.\n",
      "  'precision', 'predicted', average, warn_for)\n"
     ]
    }
   ],
   "source": [
    "print('Classification Report')\n",
    "print(classification_report(y_test, pred_lr, target_names=['-1: Negative','0: Neutral','1: Positive', '2: News']))"
   ]
  },
  {
   "cell_type": "code",
   "execution_count": null,
   "metadata": {},
   "outputs": [],
   "source": []
  }
 ],
 "metadata": {
  "kernelspec": {
   "display_name": "Python 3",
   "language": "python",
   "name": "python3"
  },
  "language_info": {
   "codemirror_mode": {
    "name": "ipython",
    "version": 3
   },
   "file_extension": ".py",
   "mimetype": "text/x-python",
   "name": "python",
   "nbconvert_exporter": "python",
   "pygments_lexer": "ipython3",
   "version": "3.7.3"
  }
 },
 "nbformat": 4,
 "nbformat_minor": 4
}
